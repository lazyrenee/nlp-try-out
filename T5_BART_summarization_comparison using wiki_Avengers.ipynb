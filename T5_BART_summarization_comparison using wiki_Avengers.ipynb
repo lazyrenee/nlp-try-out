{
 "cells": [
  {
   "cell_type": "code",
   "execution_count": null,
   "metadata": {},
   "outputs": [],
   "source": [
    "from transformers import pipeline\n",
    "from bs4 import BeautifulSoup\n",
    "import requests\n",
    "import re"
   ]
  },
  {
   "cell_type": "code",
   "execution_count": null,
   "metadata": {},
   "outputs": [],
   "source": [
    "wiki_data = requests.get(\"https://en.wikipedia.org/wiki/Avengers_(comics)\").text\n",
    "soup = BeautifulSoup(wiki_data, 'lxml')"
   ]
  },
  {
   "cell_type": "code",
   "execution_count": null,
   "metadata": {},
   "outputs": [],
   "source": [
    "data = []\n",
    "for k in soup.select('p'):\n",
    "  #append and remove citation in text, e.g. [1]\n",
    "  data.append(re.sub(\"[\\(\\[].*?[\\)\\]]\", \"\", k.getText())) \n",
    "\n",
    "data = ''.join([s for s in data if isinstance(s,str)])\n",
    "spchar_list = ['\\n', '/', '\\\\', '[', ']']\n",
    "data = data.translate({ord(x): '' for x in spchar_list})\n",
    "data = data.replace(\".\", \". \")"
   ]
  },
  {
   "cell_type": "code",
   "execution_count": null,
   "metadata": {},
   "outputs": [],
   "source": [
    "smr_bart = pipeline(task=\"summarization\", model=\"bart-large-cnn\")\n",
    "smbart = smr_bart(data, max_length=150)\n",
    "print(smbart[0]['summary_text'])"
   ]
  },
  {
   "cell_type": "code",
   "execution_count": null,
   "metadata": {},
   "outputs": [],
   "source": [
    "smr_t5 = pipeline(task=\"summarization\", model=\"t5-large\", framework=\"tf\")\n",
    "smt5 = smr_t5(data, max_length=150)\n",
    "print(smt5[0]['summary_text'])"
   ]
  },
  {
   "cell_type": "code",
   "execution_count": null,
   "metadata": {},
   "outputs": [],
   "source": []
  }
 ],
 "metadata": {
  "kernelspec": {
   "display_name": "Python 3",
   "language": "python",
   "name": "python3"
  },
  "language_info": {
   "codemirror_mode": {
    "name": "ipython",
    "version": 3
   },
   "file_extension": ".py",
   "mimetype": "text/x-python",
   "name": "python",
   "nbconvert_exporter": "python",
   "pygments_lexer": "ipython3",
   "version": "3.7.7"
  }
 },
 "nbformat": 4,
 "nbformat_minor": 4
}
